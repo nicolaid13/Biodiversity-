{
 "cells": [
  {
   "cell_type": "markdown",
   "id": "457977fb",
   "metadata": {},
   "source": [
    "# Introduction\n",
    "\n",
    "The goal of this project is to investigate if there are any patterns por themes in the types of species that become endangered in different parks for the National Parks Service.\n",
    "\n",
    "Here are a few questions this project has sought to answer: \n",
    "- How many species are in each conservation status?\n",
    "- What is their distribution by category?\n",
    "- How many species are considered protected?\n",
    "- What is the percentage of protected vs unprotected species?\n",
    "- How many observations by category are there?\n",
    "- How many observations by park are there?\n",
    "- Are certain types of species more likely to be endangered?\n",
    "- Are the differences between species's categories and their conservation status significant?"
   ]
  },
  {
   "cell_type": "code",
   "execution_count": 1,
   "id": "60fc9822",
   "metadata": {},
   "outputs": [],
   "source": [
    "#import modules \n",
    "import numpy as np\n",
    "import pandas as pd\n",
    "from matplotlib import pyplot as plt\n",
    "import seaborn as sns \n",
    "\n",
    "#load the data\n",
    "species_df = pd.read_csv('species_info.csv')\n",
    "obs_df = pd.read_csv('observations.csv')"
   ]
  },
  {
   "cell_type": "markdown",
   "id": "a36ef3f3",
   "metadata": {},
   "source": [
    "## Explore the dataframes"
   ]
  },
  {
   "cell_type": "markdown",
   "id": "1ec97336",
   "metadata": {},
   "source": [
    "**species_df**"
   ]
  },
  {
   "cell_type": "code",
   "execution_count": 2,
   "id": "f55cf682",
   "metadata": {},
   "outputs": [
    {
     "data": {
      "text/html": [
       "<div>\n",
       "<style scoped>\n",
       "    .dataframe tbody tr th:only-of-type {\n",
       "        vertical-align: middle;\n",
       "    }\n",
       "\n",
       "    .dataframe tbody tr th {\n",
       "        vertical-align: top;\n",
       "    }\n",
       "\n",
       "    .dataframe thead th {\n",
       "        text-align: right;\n",
       "    }\n",
       "</style>\n",
       "<table border=\"1\" class=\"dataframe\">\n",
       "  <thead>\n",
       "    <tr style=\"text-align: right;\">\n",
       "      <th></th>\n",
       "      <th>category</th>\n",
       "      <th>scientific_name</th>\n",
       "      <th>common_names</th>\n",
       "      <th>conservation_status</th>\n",
       "    </tr>\n",
       "  </thead>\n",
       "  <tbody>\n",
       "    <tr>\n",
       "      <th>0</th>\n",
       "      <td>Mammal</td>\n",
       "      <td>Clethrionomys gapperi gapperi</td>\n",
       "      <td>Gapper's Red-Backed Vole</td>\n",
       "      <td>NaN</td>\n",
       "    </tr>\n",
       "    <tr>\n",
       "      <th>1</th>\n",
       "      <td>Mammal</td>\n",
       "      <td>Bos bison</td>\n",
       "      <td>American Bison, Bison</td>\n",
       "      <td>NaN</td>\n",
       "    </tr>\n",
       "    <tr>\n",
       "      <th>2</th>\n",
       "      <td>Mammal</td>\n",
       "      <td>Bos taurus</td>\n",
       "      <td>Aurochs, Aurochs, Domestic Cattle (Feral), Dom...</td>\n",
       "      <td>NaN</td>\n",
       "    </tr>\n",
       "    <tr>\n",
       "      <th>3</th>\n",
       "      <td>Mammal</td>\n",
       "      <td>Ovis aries</td>\n",
       "      <td>Domestic Sheep, Mouflon, Red Sheep, Sheep (Feral)</td>\n",
       "      <td>NaN</td>\n",
       "    </tr>\n",
       "    <tr>\n",
       "      <th>4</th>\n",
       "      <td>Mammal</td>\n",
       "      <td>Cervus elaphus</td>\n",
       "      <td>Wapiti Or Elk</td>\n",
       "      <td>NaN</td>\n",
       "    </tr>\n",
       "    <tr>\n",
       "      <th>5</th>\n",
       "      <td>Mammal</td>\n",
       "      <td>Odocoileus virginianus</td>\n",
       "      <td>White-Tailed Deer</td>\n",
       "      <td>NaN</td>\n",
       "    </tr>\n",
       "    <tr>\n",
       "      <th>6</th>\n",
       "      <td>Mammal</td>\n",
       "      <td>Sus scrofa</td>\n",
       "      <td>Feral Hog, Wild Pig</td>\n",
       "      <td>NaN</td>\n",
       "    </tr>\n",
       "    <tr>\n",
       "      <th>7</th>\n",
       "      <td>Mammal</td>\n",
       "      <td>Canis latrans</td>\n",
       "      <td>Coyote</td>\n",
       "      <td>Species of Concern</td>\n",
       "    </tr>\n",
       "    <tr>\n",
       "      <th>8</th>\n",
       "      <td>Mammal</td>\n",
       "      <td>Canis lupus</td>\n",
       "      <td>Gray Wolf</td>\n",
       "      <td>Endangered</td>\n",
       "    </tr>\n",
       "    <tr>\n",
       "      <th>9</th>\n",
       "      <td>Mammal</td>\n",
       "      <td>Canis rufus</td>\n",
       "      <td>Red Wolf</td>\n",
       "      <td>Endangered</td>\n",
       "    </tr>\n",
       "  </tbody>\n",
       "</table>\n",
       "</div>"
      ],
      "text/plain": [
       "  category                scientific_name  \\\n",
       "0   Mammal  Clethrionomys gapperi gapperi   \n",
       "1   Mammal                      Bos bison   \n",
       "2   Mammal                     Bos taurus   \n",
       "3   Mammal                     Ovis aries   \n",
       "4   Mammal                 Cervus elaphus   \n",
       "5   Mammal         Odocoileus virginianus   \n",
       "6   Mammal                     Sus scrofa   \n",
       "7   Mammal                  Canis latrans   \n",
       "8   Mammal                    Canis lupus   \n",
       "9   Mammal                    Canis rufus   \n",
       "\n",
       "                                        common_names conservation_status  \n",
       "0                           Gapper's Red-Backed Vole                 NaN  \n",
       "1                              American Bison, Bison                 NaN  \n",
       "2  Aurochs, Aurochs, Domestic Cattle (Feral), Dom...                 NaN  \n",
       "3  Domestic Sheep, Mouflon, Red Sheep, Sheep (Feral)                 NaN  \n",
       "4                                      Wapiti Or Elk                 NaN  \n",
       "5                                  White-Tailed Deer                 NaN  \n",
       "6                                Feral Hog, Wild Pig                 NaN  \n",
       "7                                             Coyote  Species of Concern  \n",
       "8                                          Gray Wolf          Endangered  \n",
       "9                                           Red Wolf          Endangered  "
      ]
     },
     "execution_count": 2,
     "metadata": {},
     "output_type": "execute_result"
    }
   ],
   "source": [
    "species_df.head(10)"
   ]
  },
  {
   "cell_type": "code",
   "execution_count": 3,
   "id": "d8eae226",
   "metadata": {},
   "outputs": [
    {
     "name": "stdout",
     "output_type": "stream",
     "text": [
      "<class 'pandas.core.frame.DataFrame'>\n",
      "RangeIndex: 5824 entries, 0 to 5823\n",
      "Data columns (total 4 columns):\n",
      " #   Column               Non-Null Count  Dtype \n",
      "---  ------               --------------  ----- \n",
      " 0   category             5824 non-null   object\n",
      " 1   scientific_name      5824 non-null   object\n",
      " 2   common_names         5824 non-null   object\n",
      " 3   conservation_status  191 non-null    object\n",
      "dtypes: object(4)\n",
      "memory usage: 182.1+ KB\n"
     ]
    }
   ],
   "source": [
    "species_df.info()"
   ]
  },
  {
   "cell_type": "code",
   "execution_count": 4,
   "id": "75853fdc",
   "metadata": {},
   "outputs": [
    {
     "data": {
      "text/html": [
       "<div>\n",
       "<style scoped>\n",
       "    .dataframe tbody tr th:only-of-type {\n",
       "        vertical-align: middle;\n",
       "    }\n",
       "\n",
       "    .dataframe tbody tr th {\n",
       "        vertical-align: top;\n",
       "    }\n",
       "\n",
       "    .dataframe thead th {\n",
       "        text-align: right;\n",
       "    }\n",
       "</style>\n",
       "<table border=\"1\" class=\"dataframe\">\n",
       "  <thead>\n",
       "    <tr style=\"text-align: right;\">\n",
       "      <th></th>\n",
       "      <th>category</th>\n",
       "      <th>scientific_name</th>\n",
       "      <th>common_names</th>\n",
       "      <th>conservation_status</th>\n",
       "    </tr>\n",
       "  </thead>\n",
       "  <tbody>\n",
       "    <tr>\n",
       "      <th>count</th>\n",
       "      <td>5824</td>\n",
       "      <td>5824</td>\n",
       "      <td>5824</td>\n",
       "      <td>191</td>\n",
       "    </tr>\n",
       "    <tr>\n",
       "      <th>unique</th>\n",
       "      <td>7</td>\n",
       "      <td>5541</td>\n",
       "      <td>5504</td>\n",
       "      <td>4</td>\n",
       "    </tr>\n",
       "    <tr>\n",
       "      <th>top</th>\n",
       "      <td>Vascular Plant</td>\n",
       "      <td>Castor canadensis</td>\n",
       "      <td>Brachythecium Moss</td>\n",
       "      <td>Species of Concern</td>\n",
       "    </tr>\n",
       "    <tr>\n",
       "      <th>freq</th>\n",
       "      <td>4470</td>\n",
       "      <td>3</td>\n",
       "      <td>7</td>\n",
       "      <td>161</td>\n",
       "    </tr>\n",
       "  </tbody>\n",
       "</table>\n",
       "</div>"
      ],
      "text/plain": [
       "              category    scientific_name        common_names  \\\n",
       "count             5824               5824                5824   \n",
       "unique               7               5541                5504   \n",
       "top     Vascular Plant  Castor canadensis  Brachythecium Moss   \n",
       "freq              4470                  3                   7   \n",
       "\n",
       "       conservation_status  \n",
       "count                  191  \n",
       "unique                   4  \n",
       "top     Species of Concern  \n",
       "freq                   161  "
      ]
     },
     "execution_count": 4,
     "metadata": {},
     "output_type": "execute_result"
    }
   ],
   "source": [
    "species_df.describe(include='all')"
   ]
  },
  {
   "cell_type": "markdown",
   "id": "286ba13f",
   "metadata": {},
   "source": [
    "The conservation status column shows there are only 191 entries and 4 different kinds of status entries made. For the missing data we can assume that these species require no intervention. Category column holds 7 different types of species. Scientific names holds has more entries than unique names which means there are duplicates."
   ]
  },
  {
   "cell_type": "code",
   "execution_count": 5,
   "id": "141adc8a",
   "metadata": {},
   "outputs": [
    {
     "name": "stdout",
     "output_type": "stream",
     "text": [
      "Types of Species: ['Mammal' 'Bird' 'Reptile' 'Amphibian' 'Fish' 'Vascular Plant'\n",
      " 'Nonvascular Plant']\n",
      "Conservation Status: ['No Intervention' 'Species of Concern' 'Endangered' 'Threatened'\n",
      " 'In Recovery']\n"
     ]
    }
   ],
   "source": [
    "#fill the missing values in conservation_status \n",
    "species_df.conservation_status.fillna(value='No Intervention', inplace=True)\n",
    "\n",
    "#list all types of species\n",
    "print(f'Types of Species: {species_df.category.unique()}')\n",
    "\n",
    "#list the different types of conservation stat\n",
    "print(f'Conservation Status: {species_df.conservation_status.unique()}')"
   ]
  },
  {
   "cell_type": "code",
   "execution_count": 6,
   "id": "de88c18a",
   "metadata": {},
   "outputs": [
    {
     "data": {
      "text/plain": [
       "['No Intervention', 'Species of Concern', 'Endangered', 'Threatened', 'In Recovery']\n",
       "Categories (5, object): ['No Intervention' < 'In Recovery' < 'Species of Concern' < 'Threatened' < 'Endangered']"
      ]
     },
     "execution_count": 6,
     "metadata": {},
     "output_type": "execute_result"
    }
   ],
   "source": [
    "#rank conservation status types. no intervnetion < in recovery <species of concern < threatened < endangered\n",
    "species_df.conservation_status = pd.Categorical(species_df.conservation_status, ['No Intervention' , 'In Recovery' , 'Species of Concern' , 'Threatened' , 'Endangered'], ordered=True)\n",
    "\n",
    "species_df.conservation_status.unique()"
   ]
  },
  {
   "cell_type": "code",
   "execution_count": 7,
   "id": "221726de",
   "metadata": {},
   "outputs": [
    {
     "data": {
      "text/plain": [
       "(5541, 4)"
      ]
     },
     "execution_count": 7,
     "metadata": {},
     "output_type": "execute_result"
    }
   ],
   "source": [
    "# sort dataframe by conservation status \n",
    "species_df.sort_values('conservation_status', ascending=True, inplace=True)\n",
    "\n",
    "#removing rows with duplicate scientific names recorded keeping the rows of duplicates where species are closest to extinction \n",
    "species_df.drop_duplicates('scientific_name', keep='last', inplace=True)\n",
    "\n",
    "species_df.shape"
   ]
  },
  {
   "cell_type": "markdown",
   "id": "c9bc83b9",
   "metadata": {},
   "source": [
    "**obs_df**"
   ]
  },
  {
   "cell_type": "code",
   "execution_count": 8,
   "id": "f045147b",
   "metadata": {},
   "outputs": [
    {
     "data": {
      "text/html": [
       "<div>\n",
       "<style scoped>\n",
       "    .dataframe tbody tr th:only-of-type {\n",
       "        vertical-align: middle;\n",
       "    }\n",
       "\n",
       "    .dataframe tbody tr th {\n",
       "        vertical-align: top;\n",
       "    }\n",
       "\n",
       "    .dataframe thead th {\n",
       "        text-align: right;\n",
       "    }\n",
       "</style>\n",
       "<table border=\"1\" class=\"dataframe\">\n",
       "  <thead>\n",
       "    <tr style=\"text-align: right;\">\n",
       "      <th></th>\n",
       "      <th>scientific_name</th>\n",
       "      <th>park_name</th>\n",
       "      <th>observations</th>\n",
       "    </tr>\n",
       "  </thead>\n",
       "  <tbody>\n",
       "    <tr>\n",
       "      <th>0</th>\n",
       "      <td>Vicia benghalensis</td>\n",
       "      <td>Great Smoky Mountains National Park</td>\n",
       "      <td>68</td>\n",
       "    </tr>\n",
       "    <tr>\n",
       "      <th>1</th>\n",
       "      <td>Neovison vison</td>\n",
       "      <td>Great Smoky Mountains National Park</td>\n",
       "      <td>77</td>\n",
       "    </tr>\n",
       "    <tr>\n",
       "      <th>2</th>\n",
       "      <td>Prunus subcordata</td>\n",
       "      <td>Yosemite National Park</td>\n",
       "      <td>138</td>\n",
       "    </tr>\n",
       "    <tr>\n",
       "      <th>3</th>\n",
       "      <td>Abutilon theophrasti</td>\n",
       "      <td>Bryce National Park</td>\n",
       "      <td>84</td>\n",
       "    </tr>\n",
       "    <tr>\n",
       "      <th>4</th>\n",
       "      <td>Githopsis specularioides</td>\n",
       "      <td>Great Smoky Mountains National Park</td>\n",
       "      <td>85</td>\n",
       "    </tr>\n",
       "    <tr>\n",
       "      <th>5</th>\n",
       "      <td>Elymus virginicus var. virginicus</td>\n",
       "      <td>Yosemite National Park</td>\n",
       "      <td>112</td>\n",
       "    </tr>\n",
       "    <tr>\n",
       "      <th>6</th>\n",
       "      <td>Spizella pusilla</td>\n",
       "      <td>Yellowstone National Park</td>\n",
       "      <td>228</td>\n",
       "    </tr>\n",
       "    <tr>\n",
       "      <th>7</th>\n",
       "      <td>Elymus multisetus</td>\n",
       "      <td>Great Smoky Mountains National Park</td>\n",
       "      <td>39</td>\n",
       "    </tr>\n",
       "    <tr>\n",
       "      <th>8</th>\n",
       "      <td>Lysimachia quadrifolia</td>\n",
       "      <td>Yosemite National Park</td>\n",
       "      <td>168</td>\n",
       "    </tr>\n",
       "    <tr>\n",
       "      <th>9</th>\n",
       "      <td>Diphyscium cumberlandianum</td>\n",
       "      <td>Yellowstone National Park</td>\n",
       "      <td>250</td>\n",
       "    </tr>\n",
       "  </tbody>\n",
       "</table>\n",
       "</div>"
      ],
      "text/plain": [
       "                     scientific_name                            park_name  \\\n",
       "0                 Vicia benghalensis  Great Smoky Mountains National Park   \n",
       "1                     Neovison vison  Great Smoky Mountains National Park   \n",
       "2                  Prunus subcordata               Yosemite National Park   \n",
       "3               Abutilon theophrasti                  Bryce National Park   \n",
       "4           Githopsis specularioides  Great Smoky Mountains National Park   \n",
       "5  Elymus virginicus var. virginicus               Yosemite National Park   \n",
       "6                   Spizella pusilla            Yellowstone National Park   \n",
       "7                  Elymus multisetus  Great Smoky Mountains National Park   \n",
       "8             Lysimachia quadrifolia               Yosemite National Park   \n",
       "9         Diphyscium cumberlandianum            Yellowstone National Park   \n",
       "\n",
       "   observations  \n",
       "0            68  \n",
       "1            77  \n",
       "2           138  \n",
       "3            84  \n",
       "4            85  \n",
       "5           112  \n",
       "6           228  \n",
       "7            39  \n",
       "8           168  \n",
       "9           250  "
      ]
     },
     "execution_count": 8,
     "metadata": {},
     "output_type": "execute_result"
    }
   ],
   "source": [
    "obs_df.head(10)"
   ]
  },
  {
   "cell_type": "code",
   "execution_count": 9,
   "id": "4579359b",
   "metadata": {
    "scrolled": true
   },
   "outputs": [
    {
     "name": "stdout",
     "output_type": "stream",
     "text": [
      "<class 'pandas.core.frame.DataFrame'>\n",
      "RangeIndex: 23296 entries, 0 to 23295\n",
      "Data columns (total 3 columns):\n",
      " #   Column           Non-Null Count  Dtype \n",
      "---  ------           --------------  ----- \n",
      " 0   scientific_name  23296 non-null  object\n",
      " 1   park_name        23296 non-null  object\n",
      " 2   observations     23296 non-null  int64 \n",
      "dtypes: int64(1), object(2)\n",
      "memory usage: 546.1+ KB\n"
     ]
    }
   ],
   "source": [
    "obs_df.info()"
   ]
  },
  {
   "cell_type": "code",
   "execution_count": 10,
   "id": "f15e5003",
   "metadata": {
    "scrolled": false
   },
   "outputs": [
    {
     "data": {
      "text/plain": [
       "False    22164\n",
       "True      1132\n",
       "dtype: int64"
      ]
     },
     "execution_count": 10,
     "metadata": {},
     "output_type": "execute_result"
    }
   ],
   "source": [
    "#check for duplicate observation recordings using the scientific_name and park_name column \n",
    "obs_df.duplicated(['scientific_name', 'park_name']).value_counts()"
   ]
  },
  {
   "cell_type": "markdown",
   "id": "bc6f5884",
   "metadata": {},
   "source": [
    "1132 duplicated values we will order dataframe by observation and keep the lowest of the values "
   ]
  },
  {
   "cell_type": "code",
   "execution_count": 11,
   "id": "f10608d7",
   "metadata": {
    "scrolled": true
   },
   "outputs": [
    {
     "data": {
      "text/plain": [
       "(22164, 3)"
      ]
     },
     "execution_count": 11,
     "metadata": {},
     "output_type": "execute_result"
    }
   ],
   "source": [
    "obs_df = obs_df.sort_values('observations').drop_duplicates(subset=['scientific_name', 'park_name'], keep='last')\n",
    "obs_df.shape"
   ]
  },
  {
   "cell_type": "code",
   "execution_count": 12,
   "id": "a19ed41d",
   "metadata": {},
   "outputs": [
    {
     "name": "stdout",
     "output_type": "stream",
     "text": [
      "Number of Parks: 4\n",
      "Parks: ['Bryce National Park' 'Great Smoky Mountains National Park'\n",
      " 'Yosemite National Park' 'Yellowstone National Park']\n"
     ]
    }
   ],
   "source": [
    "#list all parks in dataset \n",
    "print(f'Number of Parks: {obs_df.park_name.nunique()}')\n",
    "print(f'Parks: {obs_df.park_name.unique()}')"
   ]
  },
  {
   "cell_type": "code",
   "execution_count": 13,
   "id": "75a04c2f",
   "metadata": {},
   "outputs": [
    {
     "data": {
      "text/html": [
       "<div>\n",
       "<style scoped>\n",
       "    .dataframe tbody tr th:only-of-type {\n",
       "        vertical-align: middle;\n",
       "    }\n",
       "\n",
       "    .dataframe tbody tr th {\n",
       "        vertical-align: top;\n",
       "    }\n",
       "\n",
       "    .dataframe thead th {\n",
       "        text-align: right;\n",
       "    }\n",
       "</style>\n",
       "<table border=\"1\" class=\"dataframe\">\n",
       "  <thead>\n",
       "    <tr style=\"text-align: right;\">\n",
       "      <th></th>\n",
       "      <th>category</th>\n",
       "      <th>scientific_name</th>\n",
       "      <th>common_names</th>\n",
       "      <th>conservation_status</th>\n",
       "      <th>park_name</th>\n",
       "      <th>observations</th>\n",
       "    </tr>\n",
       "  </thead>\n",
       "  <tbody>\n",
       "    <tr>\n",
       "      <th>0</th>\n",
       "      <td>Mammal</td>\n",
       "      <td>Clethrionomys gapperi gapperi</td>\n",
       "      <td>Gapper's Red-Backed Vole</td>\n",
       "      <td>No Intervention</td>\n",
       "      <td>Great Smoky Mountains National Park</td>\n",
       "      <td>98</td>\n",
       "    </tr>\n",
       "    <tr>\n",
       "      <th>1</th>\n",
       "      <td>Mammal</td>\n",
       "      <td>Clethrionomys gapperi gapperi</td>\n",
       "      <td>Gapper's Red-Backed Vole</td>\n",
       "      <td>No Intervention</td>\n",
       "      <td>Yosemite National Park</td>\n",
       "      <td>117</td>\n",
       "    </tr>\n",
       "    <tr>\n",
       "      <th>2</th>\n",
       "      <td>Mammal</td>\n",
       "      <td>Clethrionomys gapperi gapperi</td>\n",
       "      <td>Gapper's Red-Backed Vole</td>\n",
       "      <td>No Intervention</td>\n",
       "      <td>Bryce National Park</td>\n",
       "      <td>130</td>\n",
       "    </tr>\n",
       "    <tr>\n",
       "      <th>3</th>\n",
       "      <td>Mammal</td>\n",
       "      <td>Clethrionomys gapperi gapperi</td>\n",
       "      <td>Gapper's Red-Backed Vole</td>\n",
       "      <td>No Intervention</td>\n",
       "      <td>Yellowstone National Park</td>\n",
       "      <td>270</td>\n",
       "    </tr>\n",
       "    <tr>\n",
       "      <th>4</th>\n",
       "      <td>Vascular Plant</td>\n",
       "      <td>Apocynum cannabinum var. cannabinum</td>\n",
       "      <td>Indian Hemp</td>\n",
       "      <td>No Intervention</td>\n",
       "      <td>Great Smoky Mountains National Park</td>\n",
       "      <td>68</td>\n",
       "    </tr>\n",
       "  </tbody>\n",
       "</table>\n",
       "</div>"
      ],
      "text/plain": [
       "         category                      scientific_name  \\\n",
       "0          Mammal        Clethrionomys gapperi gapperi   \n",
       "1          Mammal        Clethrionomys gapperi gapperi   \n",
       "2          Mammal        Clethrionomys gapperi gapperi   \n",
       "3          Mammal        Clethrionomys gapperi gapperi   \n",
       "4  Vascular Plant  Apocynum cannabinum var. cannabinum   \n",
       "\n",
       "               common_names conservation_status  \\\n",
       "0  Gapper's Red-Backed Vole     No Intervention   \n",
       "1  Gapper's Red-Backed Vole     No Intervention   \n",
       "2  Gapper's Red-Backed Vole     No Intervention   \n",
       "3  Gapper's Red-Backed Vole     No Intervention   \n",
       "4               Indian Hemp     No Intervention   \n",
       "\n",
       "                             park_name  observations  \n",
       "0  Great Smoky Mountains National Park            98  \n",
       "1               Yosemite National Park           117  \n",
       "2                  Bryce National Park           130  \n",
       "3            Yellowstone National Park           270  \n",
       "4  Great Smoky Mountains National Park            68  "
      ]
     },
     "execution_count": 13,
     "metadata": {},
     "output_type": "execute_result"
    }
   ],
   "source": [
    "#merging both dataframes \n",
    "full_df = pd.merge(species_df, obs_df)\n",
    "full_df.head()"
   ]
  },
  {
   "cell_type": "markdown",
   "id": "d276902b",
   "metadata": {},
   "source": [
    "### How many species are in each conservation status?"
   ]
  },
  {
   "cell_type": "code",
   "execution_count": 14,
   "id": "a5f6d2ac",
   "metadata": {
    "scrolled": true
   },
   "outputs": [
    {
     "data": {
      "text/html": [
       "<div>\n",
       "<style scoped>\n",
       "    .dataframe tbody tr th:only-of-type {\n",
       "        vertical-align: middle;\n",
       "    }\n",
       "\n",
       "    .dataframe tbody tr th {\n",
       "        vertical-align: top;\n",
       "    }\n",
       "\n",
       "    .dataframe thead th {\n",
       "        text-align: right;\n",
       "    }\n",
       "</style>\n",
       "<table border=\"1\" class=\"dataframe\">\n",
       "  <thead>\n",
       "    <tr style=\"text-align: right;\">\n",
       "      <th></th>\n",
       "      <th>index</th>\n",
       "      <th>conservation_status</th>\n",
       "    </tr>\n",
       "  </thead>\n",
       "  <tbody>\n",
       "    <tr>\n",
       "      <th>0</th>\n",
       "      <td>No Intervention</td>\n",
       "      <td>0.967695</td>\n",
       "    </tr>\n",
       "    <tr>\n",
       "      <th>1</th>\n",
       "      <td>Species of Concern</td>\n",
       "      <td>0.027251</td>\n",
       "    </tr>\n",
       "    <tr>\n",
       "      <th>2</th>\n",
       "      <td>Endangered</td>\n",
       "      <td>0.002707</td>\n",
       "    </tr>\n",
       "    <tr>\n",
       "      <th>3</th>\n",
       "      <td>Threatened</td>\n",
       "      <td>0.001805</td>\n",
       "    </tr>\n",
       "    <tr>\n",
       "      <th>4</th>\n",
       "      <td>In Recovery</td>\n",
       "      <td>0.000541</td>\n",
       "    </tr>\n",
       "  </tbody>\n",
       "</table>\n",
       "</div>"
      ],
      "text/plain": [
       "                index  conservation_status\n",
       "0     No Intervention             0.967695\n",
       "1  Species of Concern             0.027251\n",
       "2          Endangered             0.002707\n",
       "3          Threatened             0.001805\n",
       "4         In Recovery             0.000541"
      ]
     },
     "execution_count": 14,
     "metadata": {},
     "output_type": "execute_result"
    }
   ],
   "source": [
    "#conservation statsus of all species in df \n",
    "species_df.conservation_status.value_counts().reset_index()\n",
    "conservation_spec = species_df.conservation_status.value_counts(normalize=True).reset_index()\n",
    "conservation_spec.head(10)"
   ]
  },
  {
   "cell_type": "code",
   "execution_count": 15,
   "id": "b9fba6a9",
   "metadata": {},
   "outputs": [
    {
     "data": {
      "image/png": "[encoded data removed]",
      "text/plain": [
       "<Figure size 1008x576 with 1 Axes>"
      ]
     },
     "metadata": {
      "needs_background": "light"
     },
     "output_type": "display_data"
    },
    {
     "data": {
      "text/plain": [
       "<Figure size 432x288 with 0 Axes>"
      ]
     },
     "metadata": {},
     "output_type": "display_data"
    }
   ],
   "source": [
    "#find out conservation status frequency of types of species \n",
    "specie_type_freq = species_df.category.value_counts().reset_index().rename(columns={'category':'count', 'index':'category'})\n",
    "\n",
    "#create bar chart for visualizing specie count per category. \n",
    "plt.figure(figsize=[14, 8])\n",
    "sns.set_style('darkgrid')\n",
    "ax = sns.barplot(x='category', y='count',data=specie_type_freq, palette='colorblind')\n",
    "plt.xticks(rotation=0, fontsize=10)\n",
    "plt.xlabel('Category', fontsize=12)\n",
    "plt.ylabel('Specie Count', fontsize=12)\n",
    "plt.title('Specie Count Per Category', weight='bold', fontsize=14)\n",
    "plt.bar_label(ax.containers[0])\n",
    "plt.show()\n",
    "plt.clf()"
   ]
  },
  {
   "cell_type": "markdown",
   "id": "8b3016a9",
   "metadata": {},
   "source": [
    "Approximately 97% of the species observed in the national park currently require no intervention. Of the 3%, 3 species are currently in recovery, 151 classified as a species concern, 9 are threatened and 15 are endangered. Vascular plants make up 77% percent of species found in the parks. The second most common type of species found is birds with 488 different species and the least most common types species being reptiles and amphibians with 78 and 79 different species respectively. "
   ]
  },
  {
   "cell_type": "markdown",
   "id": "8b6dc2b5",
   "metadata": {},
   "source": [
    "### What is their distribution by category?"
   ]
  },
  {
   "cell_type": "code",
   "execution_count": 16,
   "id": "b198ef25",
   "metadata": {},
   "outputs": [
    {
     "data": {
      "image/png": "[encoded data removed]",
      "text/plain": [
       "<Figure size 1008x576 with 1 Axes>"
      ]
     },
     "metadata": {},
     "output_type": "display_data"
    },
    {
     "data": {
      "text/plain": [
       "<Figure size 432x288 with 0 Axes>"
      ]
     },
     "metadata": {},
     "output_type": "display_data"
    }
   ],
   "source": [
    "#create dataframes excluding species that require no intervention\n",
    "species_protected = species_df[species_df.conservation_status!='No Intervention']\n",
    "full_protected = full_df[full_df.conservation_status!='No Intervention']\n",
    "\n",
    "#create bar chart for visualizing specie count per category. \n",
    "plt.figure(figsize=[14, 8])\n",
    "sns.set_style('darkgrid')\n",
    "ax = sns.countplot(x='category', data=full_protected, palette='colorblind', hue='conservation_status')\n",
    "plt.xticks(rotation=0, fontsize=10)\n",
    "plt.xlabel('Category', fontsize=12)\n",
    "plt.ylabel('Specie Count', fontsize=12)\n",
    "plt.title('Specie Count Per Category', weight='bold', fontsize=14)\n",
    "plt.bar_label(ax.containers[0])\n",
    "plt.show()\n",
    "plt.clf()"
   ]
  },
  {
   "cell_type": "markdown",
   "id": "6dc6fc26",
   "metadata": {},
   "source": [
    "All types the categories species are mostly species of concern except fish which has an equal amount of species in recovery as well as concern. Birds and vascular plants have the most number of species combined in the national parks that are under threat of possible extinction. The reptiles, amphibian and non vascular plant have the fewest number of species under threat. "
   ]
  },
  {
   "cell_type": "markdown",
   "id": "73b8e32e",
   "metadata": {},
   "source": [
    "### How many species are considered protected?"
   ]
  },
  {
   "cell_type": "code",
   "execution_count": 17,
   "id": "c09603c7",
   "metadata": {},
   "outputs": [
    {
     "name": "stdout",
     "output_type": "stream",
     "text": [
      "Total number of protected species: 179\n",
      "Total number of un-protected species: 5362\n"
     ]
    }
   ],
   "source": [
    "#create a new column to identify protected species\n",
    "species_df['protected'] = species_df.conservation_status != 'No Intervention'\n",
    "\n",
    "protection = species_df.groupby(['category', 'protected']).scientific_name.count().reset_index()\n",
    "protection = protection.pivot(columns='protected', index='category', values='scientific_name').reset_index()\n",
    "protection = protection.rename(columns={'protected':'',False:'not_protected', True:'protected'})\n",
    "protection = protection.rename_axis(None, axis=1)  \n",
    "\n",
    "# sum of protected vs unprotected \n",
    "print(f'Total number of protected species: {protection.protected.sum()}')\n",
    "print(f'Total number of un-protected species: {protection.not_protected.sum()}')\n"
   ]
  },
  {
   "cell_type": "markdown",
   "id": "665b4677",
   "metadata": {},
   "source": [
    "### What is the percentage of protected vs unprotected species?"
   ]
  },
  {
   "cell_type": "code",
   "execution_count": 18,
   "id": "c685ff93",
   "metadata": {},
   "outputs": [
    {
     "data": {
      "text/html": [
       "<div>\n",
       "<style scoped>\n",
       "    .dataframe tbody tr th:only-of-type {\n",
       "        vertical-align: middle;\n",
       "    }\n",
       "\n",
       "    .dataframe tbody tr th {\n",
       "        vertical-align: top;\n",
       "    }\n",
       "\n",
       "    .dataframe thead th {\n",
       "        text-align: right;\n",
       "    }\n",
       "</style>\n",
       "<table border=\"1\" class=\"dataframe\">\n",
       "  <thead>\n",
       "    <tr style=\"text-align: right;\">\n",
       "      <th></th>\n",
       "      <th>category</th>\n",
       "      <th>not_protected</th>\n",
       "      <th>protected</th>\n",
       "      <th>protection_percentage</th>\n",
       "    </tr>\n",
       "  </thead>\n",
       "  <tbody>\n",
       "    <tr>\n",
       "      <th>0</th>\n",
       "      <td>Amphibian</td>\n",
       "      <td>72</td>\n",
       "      <td>7</td>\n",
       "      <td>8.86</td>\n",
       "    </tr>\n",
       "    <tr>\n",
       "      <th>1</th>\n",
       "      <td>Bird</td>\n",
       "      <td>413</td>\n",
       "      <td>75</td>\n",
       "      <td>15.37</td>\n",
       "    </tr>\n",
       "    <tr>\n",
       "      <th>2</th>\n",
       "      <td>Fish</td>\n",
       "      <td>114</td>\n",
       "      <td>11</td>\n",
       "      <td>8.80</td>\n",
       "    </tr>\n",
       "    <tr>\n",
       "      <th>3</th>\n",
       "      <td>Mammal</td>\n",
       "      <td>146</td>\n",
       "      <td>30</td>\n",
       "      <td>17.05</td>\n",
       "    </tr>\n",
       "    <tr>\n",
       "      <th>4</th>\n",
       "      <td>Nonvascular Plant</td>\n",
       "      <td>328</td>\n",
       "      <td>5</td>\n",
       "      <td>1.50</td>\n",
       "    </tr>\n",
       "    <tr>\n",
       "      <th>5</th>\n",
       "      <td>Reptile</td>\n",
       "      <td>73</td>\n",
       "      <td>5</td>\n",
       "      <td>6.41</td>\n",
       "    </tr>\n",
       "    <tr>\n",
       "      <th>6</th>\n",
       "      <td>Vascular Plant</td>\n",
       "      <td>4216</td>\n",
       "      <td>46</td>\n",
       "      <td>1.08</td>\n",
       "    </tr>\n",
       "  </tbody>\n",
       "</table>\n",
       "</div>"
      ],
      "text/plain": [
       "            category  not_protected  protected  protection_percentage\n",
       "0          Amphibian             72          7                   8.86\n",
       "1               Bird            413         75                  15.37\n",
       "2               Fish            114         11                   8.80\n",
       "3             Mammal            146         30                  17.05\n",
       "4  Nonvascular Plant            328          5                   1.50\n",
       "5            Reptile             73          5                   6.41\n",
       "6     Vascular Plant           4216         46                   1.08"
      ]
     },
     "execution_count": 18,
     "metadata": {},
     "output_type": "execute_result"
    }
   ],
   "source": [
    "#cehck what percentage of each category is protected\n",
    "protection['protection_percentage'] = round(protection['protected'] /( protection['protected'] + protection['not_protected'])*100, 2)\n",
    "protection"
   ]
  },
  {
   "cell_type": "markdown",
   "id": "559d4141",
   "metadata": {},
   "source": [
    "Mammal are more likely to be endangered than birds, amphibians and fish have the highest rate of being under protection in the parks. \n"
   ]
  },
  {
   "cell_type": "markdown",
   "id": "6939d5e4",
   "metadata": {},
   "source": [
    "### How many protected observations by category are there?"
   ]
  },
  {
   "cell_type": "code",
   "execution_count": 19,
   "id": "b14cf677",
   "metadata": {},
   "outputs": [
    {
     "data": {
      "text/html": [
       "<div>\n",
       "<style scoped>\n",
       "    .dataframe tbody tr th:only-of-type {\n",
       "        vertical-align: middle;\n",
       "    }\n",
       "\n",
       "    .dataframe tbody tr th {\n",
       "        vertical-align: top;\n",
       "    }\n",
       "\n",
       "    .dataframe thead th {\n",
       "        text-align: right;\n",
       "    }\n",
       "</style>\n",
       "<table border=\"1\" class=\"dataframe\">\n",
       "  <thead>\n",
       "    <tr style=\"text-align: right;\">\n",
       "      <th></th>\n",
       "      <th>category</th>\n",
       "      <th>observations</th>\n",
       "    </tr>\n",
       "  </thead>\n",
       "  <tbody>\n",
       "    <tr>\n",
       "      <th>1</th>\n",
       "      <td>Bird</td>\n",
       "      <td>36682</td>\n",
       "    </tr>\n",
       "    <tr>\n",
       "      <th>6</th>\n",
       "      <td>Vascular Plant</td>\n",
       "      <td>22849</td>\n",
       "    </tr>\n",
       "    <tr>\n",
       "      <th>3</th>\n",
       "      <td>Mammal</td>\n",
       "      <td>13313</td>\n",
       "    </tr>\n",
       "    <tr>\n",
       "      <th>2</th>\n",
       "      <td>Fish</td>\n",
       "      <td>3933</td>\n",
       "    </tr>\n",
       "    <tr>\n",
       "      <th>0</th>\n",
       "      <td>Amphibian</td>\n",
       "      <td>2752</td>\n",
       "    </tr>\n",
       "    <tr>\n",
       "      <th>4</th>\n",
       "      <td>Nonvascular Plant</td>\n",
       "      <td>2705</td>\n",
       "    </tr>\n",
       "    <tr>\n",
       "      <th>5</th>\n",
       "      <td>Reptile</td>\n",
       "      <td>2536</td>\n",
       "    </tr>\n",
       "  </tbody>\n",
       "</table>\n",
       "</div>"
      ],
      "text/plain": [
       "            category  observations\n",
       "1               Bird         36682\n",
       "6     Vascular Plant         22849\n",
       "3             Mammal         13313\n",
       "2               Fish          3933\n",
       "0          Amphibian          2752\n",
       "4  Nonvascular Plant          2705\n",
       "5            Reptile          2536"
      ]
     },
     "execution_count": 19,
     "metadata": {},
     "output_type": "execute_result"
    }
   ],
   "source": [
    "cat_obs = full_protected.groupby('category').observations.sum().reset_index().sort_values('observations', ascending=False)\n",
    "cat_obs"
   ]
  },
  {
   "cell_type": "code",
   "execution_count": 20,
   "id": "0dafd847",
   "metadata": {},
   "outputs": [
    {
     "data": {
      "image/png": "[encoded data removed]",
      "text/plain": [
       "<Figure size 1008x576 with 1 Axes>"
      ]
     },
     "metadata": {},
     "output_type": "display_data"
    },
    {
     "data": {
      "text/plain": [
       "<Figure size 432x288 with 0 Axes>"
      ]
     },
     "metadata": {},
     "output_type": "display_data"
    }
   ],
   "source": [
    "#create bar chart for visualizing total observations per category. \n",
    "plt.figure(figsize=[14, 8])\n",
    "sns.set_style('darkgrid')\n",
    "ax = sns.barplot(x='category', y='observations',data=cat_obs, palette='colorblind')\n",
    "plt.xticks(rotation=0, fontsize=10)\n",
    "plt.xlabel('Category', fontsize=12)\n",
    "plt.ylabel('Specie Count', fontsize=12)\n",
    "plt.title('Specie Count Per Category', weight='bold', fontsize=14)\n",
    "plt.bar_label(ax.containers[0])\n",
    "plt.show()\n",
    "plt.clf()"
   ]
  },
  {
   "cell_type": "markdown",
   "id": "b62f4735",
   "metadata": {},
   "source": [
    "Valsuclar plants are very abundant even among the protected species. The category with the second most observations happens to be birds. Amphibians and reptiles had the least observations. "
   ]
  },
  {
   "cell_type": "markdown",
   "id": "464509f8",
   "metadata": {},
   "source": [
    "### How many observations by park are there?"
   ]
  },
  {
   "cell_type": "code",
   "execution_count": 21,
   "id": "148ef1aa",
   "metadata": {},
   "outputs": [
    {
     "data": {
      "image/png": "[encoded data removed]",
      "text/plain": [
       "<Figure size 1008x576 with 1 Axes>"
      ]
     },
     "metadata": {},
     "output_type": "display_data"
    },
    {
     "data": {
      "text/plain": [
       "<Figure size 432x288 with 0 Axes>"
      ]
     },
     "metadata": {},
     "output_type": "display_data"
    }
   ],
   "source": [
    "park_obs = full_protected.groupby('park_name').observations.sum().reset_index()\n",
    "\n",
    "#create bar chart for visualizing total observations per park. \n",
    "plt.figure(figsize=[14, 8])\n",
    "sns.set_style('darkgrid')\n",
    "ax = sns.barplot(x='park_name', y='observations',data=park_obs, palette='colorblind')\n",
    "plt.xticks(rotation=0, fontsize=10)\n",
    "plt.xlabel('Category', fontsize=12)\n",
    "plt.ylabel('Specie Count', fontsize=12)\n",
    "plt.title('Specie Count Per Category', weight='bold', fontsize=14)\n",
    "plt.bar_label(ax.containers[0])\n",
    "plt.show()\n",
    "plt.clf()"
   ]
  },
  {
   "cell_type": "markdown",
   "id": "55a7c1ea",
   "metadata": {},
   "source": [
    "Yellowstone has the highest number of observations out of all the parks, with the great smoky mountains having the least number of sightings"
   ]
  },
  {
   "cell_type": "markdown",
   "id": "cf3b8ca7",
   "metadata": {},
   "source": [
    "**Lets create a dateframe with the park_name, category and observations.**"
   ]
  },
  {
   "cell_type": "code",
   "execution_count": 23,
   "id": "7a72a1ca",
   "metadata": {},
   "outputs": [
    {
     "data": {
      "text/html": [
       "<div>\n",
       "<style scoped>\n",
       "    .dataframe tbody tr th:only-of-type {\n",
       "        vertical-align: middle;\n",
       "    }\n",
       "\n",
       "    .dataframe tbody tr th {\n",
       "        vertical-align: top;\n",
       "    }\n",
       "\n",
       "    .dataframe thead th {\n",
       "        text-align: right;\n",
       "    }\n",
       "</style>\n",
       "<table border=\"1\" class=\"dataframe\">\n",
       "  <thead>\n",
       "    <tr style=\"text-align: right;\">\n",
       "      <th></th>\n",
       "      <th>park_name</th>\n",
       "      <th>conservation_status</th>\n",
       "      <th>observations</th>\n",
       "    </tr>\n",
       "  </thead>\n",
       "  <tbody>\n",
       "    <tr>\n",
       "      <th>0</th>\n",
       "      <td>Bryce National Park</td>\n",
       "      <td>No Intervention</td>\n",
       "      <td>0</td>\n",
       "    </tr>\n",
       "    <tr>\n",
       "      <th>1</th>\n",
       "      <td>Bryce National Park</td>\n",
       "      <td>In Recovery</td>\n",
       "      <td>258</td>\n",
       "    </tr>\n",
       "    <tr>\n",
       "      <th>2</th>\n",
       "      <td>Bryce National Park</td>\n",
       "      <td>Species of Concern</td>\n",
       "      <td>14085</td>\n",
       "    </tr>\n",
       "    <tr>\n",
       "      <th>3</th>\n",
       "      <td>Bryce National Park</td>\n",
       "      <td>Threatened</td>\n",
       "      <td>532</td>\n",
       "    </tr>\n",
       "    <tr>\n",
       "      <th>4</th>\n",
       "      <td>Bryce National Park</td>\n",
       "      <td>Endangered</td>\n",
       "      <td>433</td>\n",
       "    </tr>\n",
       "    <tr>\n",
       "      <th>5</th>\n",
       "      <td>Great Smoky Mountains National Park</td>\n",
       "      <td>No Intervention</td>\n",
       "      <td>0</td>\n",
       "    </tr>\n",
       "    <tr>\n",
       "      <th>6</th>\n",
       "      <td>Great Smoky Mountains National Park</td>\n",
       "      <td>In Recovery</td>\n",
       "      <td>189</td>\n",
       "    </tr>\n",
       "    <tr>\n",
       "      <th>7</th>\n",
       "      <td>Great Smoky Mountains National Park</td>\n",
       "      <td>Species of Concern</td>\n",
       "      <td>9740</td>\n",
       "    </tr>\n",
       "    <tr>\n",
       "      <th>8</th>\n",
       "      <td>Great Smoky Mountains National Park</td>\n",
       "      <td>Threatened</td>\n",
       "      <td>401</td>\n",
       "    </tr>\n",
       "    <tr>\n",
       "      <th>9</th>\n",
       "      <td>Great Smoky Mountains National Park</td>\n",
       "      <td>Endangered</td>\n",
       "      <td>305</td>\n",
       "    </tr>\n",
       "    <tr>\n",
       "      <th>10</th>\n",
       "      <td>Yellowstone National Park</td>\n",
       "      <td>No Intervention</td>\n",
       "      <td>0</td>\n",
       "    </tr>\n",
       "    <tr>\n",
       "      <th>11</th>\n",
       "      <td>Yellowstone National Park</td>\n",
       "      <td>In Recovery</td>\n",
       "      <td>559</td>\n",
       "    </tr>\n",
       "    <tr>\n",
       "      <th>12</th>\n",
       "      <td>Yellowstone National Park</td>\n",
       "      <td>Species of Concern</td>\n",
       "      <td>33713</td>\n",
       "    </tr>\n",
       "    <tr>\n",
       "      <th>13</th>\n",
       "      <td>Yellowstone National Park</td>\n",
       "      <td>Threatened</td>\n",
       "      <td>1340</td>\n",
       "    </tr>\n",
       "    <tr>\n",
       "      <th>14</th>\n",
       "      <td>Yellowstone National Park</td>\n",
       "      <td>Endangered</td>\n",
       "      <td>1101</td>\n",
       "    </tr>\n",
       "    <tr>\n",
       "      <th>15</th>\n",
       "      <td>Yosemite National Park</td>\n",
       "      <td>No Intervention</td>\n",
       "      <td>0</td>\n",
       "    </tr>\n",
       "    <tr>\n",
       "      <th>16</th>\n",
       "      <td>Yosemite National Park</td>\n",
       "      <td>In Recovery</td>\n",
       "      <td>386</td>\n",
       "    </tr>\n",
       "    <tr>\n",
       "      <th>17</th>\n",
       "      <td>Yosemite National Park</td>\n",
       "      <td>Species of Concern</td>\n",
       "      <td>20270</td>\n",
       "    </tr>\n",
       "    <tr>\n",
       "      <th>18</th>\n",
       "      <td>Yosemite National Park</td>\n",
       "      <td>Threatened</td>\n",
       "      <td>790</td>\n",
       "    </tr>\n",
       "    <tr>\n",
       "      <th>19</th>\n",
       "      <td>Yosemite National Park</td>\n",
       "      <td>Endangered</td>\n",
       "      <td>668</td>\n",
       "    </tr>\n",
       "  </tbody>\n",
       "</table>\n",
       "</div>"
      ],
      "text/plain": [
       "                              park_name conservation_status  observations\n",
       "0                   Bryce National Park     No Intervention             0\n",
       "1                   Bryce National Park         In Recovery           258\n",
       "2                   Bryce National Park  Species of Concern         14085\n",
       "3                   Bryce National Park          Threatened           532\n",
       "4                   Bryce National Park          Endangered           433\n",
       "5   Great Smoky Mountains National Park     No Intervention             0\n",
       "6   Great Smoky Mountains National Park         In Recovery           189\n",
       "7   Great Smoky Mountains National Park  Species of Concern          9740\n",
       "8   Great Smoky Mountains National Park          Threatened           401\n",
       "9   Great Smoky Mountains National Park          Endangered           305\n",
       "10            Yellowstone National Park     No Intervention             0\n",
       "11            Yellowstone National Park         In Recovery           559\n",
       "12            Yellowstone National Park  Species of Concern         33713\n",
       "13            Yellowstone National Park          Threatened          1340\n",
       "14            Yellowstone National Park          Endangered          1101\n",
       "15               Yosemite National Park     No Intervention             0\n",
       "16               Yosemite National Park         In Recovery           386\n",
       "17               Yosemite National Park  Species of Concern         20270\n",
       "18               Yosemite National Park          Threatened           790\n",
       "19               Yosemite National Park          Endangered           668"
      ]
     },
     "execution_count": 23,
     "metadata": {},
     "output_type": "execute_result"
    }
   ],
   "source": [
    "types_in_park = full_protected.groupby(['park_name', 'conservation_status']).observations.sum().reset_index()\n",
    "types_in_park"
   ]
  },
  {
   "cell_type": "code",
   "execution_count": 29,
   "id": "e7802727",
   "metadata": {
    "scrolled": true
   },
   "outputs": [],
   "source": [
    "# plt.figure(figsize=[20,15], dpi=300)\n",
    "# plt.pie(y='park_name', x='observations' ,data=types_in_park, palette='colorblind', hue='conservation_status')\n",
    "# plt.xticks(rotation=0, fontsize=12)\n",
    "# plt.yticks(rotation=0, fontsize=12)\n",
    "# plt.xlabel('Total Observations', fontsize=15)\n",
    "# plt.ylabel('Conservation Status', fontsize=15)\n",
    "# plt.title('Specie Count Per Category', weight='bold', fontsize=14)\n",
    "# plt.show()\n",
    "# plt.clf()\n"
   ]
  },
  {
   "cell_type": "markdown",
   "id": "8c4f6b08",
   "metadata": {},
   "source": [
    "### Are certain types of species more likely to be endangered?"
   ]
  },
  {
   "cell_type": "code",
   "execution_count": 27,
   "id": "b04cc146",
   "metadata": {},
   "outputs": [
    {
     "name": "stdout",
     "output_type": "stream",
     "text": [
      "0.6875948096661336\n"
     ]
    }
   ],
   "source": [
    "#use chi2_contigency to caclculate significant difference\n",
    "from scipy.stats import chi2_contingency\n",
    "\n",
    "\n",
    "xtab1 = [[413, 75],\n",
    "       [146, 30]]\n",
    "\n",
    "chi2, pval, dof, expected = chi2_contingency(xtab1)\n",
    "print(pval)"
   ]
  },
  {
   "cell_type": "code",
   "execution_count": 28,
   "id": "e4b5473f",
   "metadata": {},
   "outputs": [
    {
     "name": "stdout",
     "output_type": "stream",
     "text": [
      "0.12757669693198975\n"
     ]
    }
   ],
   "source": [
    "xtab2 = [[72,7],\n",
    "        [146, 30]]\n",
    "chi2, pval, dof, expected = chi2_contingency(xtab2)\n",
    "print(pval)"
   ]
  },
  {
   "cell_type": "markdown",
   "id": "492859c0",
   "metadata": {},
   "source": [
    "The differences between species's categories, conservation status is significant. pval is less then the threshold of 0.05. This means the species do not have similar conservation statuses."
   ]
  }
 ],
 "metadata": {
  "kernelspec": {
   "display_name": "Python 3 (ipykernel)",
   "language": "python",
   "name": "python3"
  },
  "language_info": {
   "codemirror_mode": {
    "name": "ipython",
    "version": 3
   },
   "file_extension": ".py",
   "mimetype": "text/x-python",
   "name": "python",
   "nbconvert_exporter": "python",
   "pygments_lexer": "ipython3",
   "version": "3.10.4"
  }
 },
 "nbformat": 4,
 "nbformat_minor": 5
}
